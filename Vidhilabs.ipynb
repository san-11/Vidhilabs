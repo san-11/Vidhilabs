{
  "nbformat": 4,
  "nbformat_minor": 0,
  "metadata": {
    "colab": {
      "provenance": []
    },
    "kernelspec": {
      "name": "python3",
      "display_name": "Python 3"
    },
    "language_info": {
      "name": "python"
    }
  },
  "cells": [
    {
      "cell_type": "markdown",
      "source": [
        "Write a python program that prints the numbers from 1 to 100. But for multiples of seven, print \"Fizz\" instead of the number, and for the multiples of three, print \"Buzz\". For numbers which are multiples of both three and seven, print \"FizzBuzz\"."
      ],
      "metadata": {
        "id": "bLL5kFPETso7"
      }
    },
    {
      "cell_type": "code",
      "execution_count": 1,
      "metadata": {
        "colab": {
          "base_uri": "https://localhost:8080/"
        },
        "id": "7KffQoW5S3jb",
        "outputId": "da748168-b09f-46f7-dc68-39b64e75fb39"
      },
      "outputs": [
        {
          "output_type": "stream",
          "name": "stdout",
          "text": [
            "1\n",
            "2\n",
            "Buzz\n",
            "4\n",
            "5\n",
            "Buzz\n",
            "Fizz\n",
            "8\n",
            "Buzz\n",
            "10\n",
            "11\n",
            "Buzz\n",
            "13\n",
            "Fizz\n",
            "Buzz\n",
            "16\n",
            "17\n",
            "Buzz\n",
            "19\n",
            "20\n",
            "FizzBuzz\n",
            "22\n",
            "23\n",
            "Buzz\n",
            "25\n",
            "26\n",
            "Buzz\n",
            "Fizz\n",
            "29\n",
            "Buzz\n",
            "31\n",
            "32\n",
            "Buzz\n",
            "34\n",
            "Fizz\n",
            "Buzz\n",
            "37\n",
            "38\n",
            "Buzz\n",
            "40\n",
            "41\n",
            "FizzBuzz\n",
            "43\n",
            "44\n",
            "Buzz\n",
            "46\n",
            "47\n",
            "Buzz\n",
            "Fizz\n",
            "50\n",
            "Buzz\n",
            "52\n",
            "53\n",
            "Buzz\n",
            "55\n",
            "Fizz\n",
            "Buzz\n",
            "58\n",
            "59\n",
            "Buzz\n",
            "61\n",
            "62\n",
            "FizzBuzz\n",
            "64\n",
            "65\n",
            "Buzz\n",
            "67\n",
            "68\n",
            "Buzz\n",
            "Fizz\n",
            "71\n",
            "Buzz\n",
            "73\n",
            "74\n",
            "Buzz\n",
            "76\n",
            "Fizz\n",
            "Buzz\n",
            "79\n",
            "80\n",
            "Buzz\n",
            "82\n",
            "83\n",
            "FizzBuzz\n",
            "85\n",
            "86\n",
            "Buzz\n",
            "88\n",
            "89\n",
            "Buzz\n",
            "Fizz\n",
            "92\n",
            "Buzz\n",
            "94\n",
            "95\n",
            "Buzz\n",
            "97\n",
            "Fizz\n",
            "Buzz\n",
            "100\n"
          ]
        }
      ],
      "source": [
        "for i in range(1, 101):\n",
        "    if i % 3 == 0 and i % 7 == 0:\n",
        "        print(\"FizzBuzz\")\n",
        "    elif i % 3 == 0:\n",
        "        print(\"Buzz\")\n",
        "    elif i % 7 == 0:\n",
        "        print(\"Fizz\")\n",
        "    else:\n",
        "        print(i)"
      ]
    }
  ]
}